{
  "cells": [
    {
      "cell_type": "code",
      "execution_count": 1,
      "metadata": {
        "colab": {
          "base_uri": "https://localhost:8080/"
        },
        "id": "viQUnLyPdqzQ",
        "outputId": "24c0379a-e760-4672-a028-784f335db727"
      },
      "outputs": [
        {
          "name": "stdout",
          "output_type": "stream",
          "text": [
            "Accuracy score of the training data by Svm:  0.7833876221498371\n",
            "Accuracy score of the test data by svm:  0.7727272727272727\n",
            "Accuracy score of the training data by SVM:  0.6026058631921825\n",
            "Accuracy score of the test data by SVM:  0.6558441558441559\n",
            "Accuracy score of the training data by KNN:  0.8436482084690554\n",
            "Accuracy score of the test data by KNN:  0.6818181818181818\n",
            "Accuracy score of the training data by decision tree:  1.0\n",
            "Accuracy score of the test data by decision tree:  0.7077922077922078\n",
            "Accuracy score of the training data by RF:  1.0\n",
            "Accuracy score of the test data by RF:  0.7402597402597403\n"
          ]
        }
      ],
      "source": [
        "# imports\n",
        "import numpy as np\n",
        "import pandas as pd\n",
        "from sklearn.model_selection import train_test_split\n",
        "from sklearn import svm\n",
        "from sklearn.metrics import accuracy_score\n",
        "from sklearn.ensemble import RandomForestClassifier\n",
        "from sklearn.neighbors import KNeighborsClassifier\n",
        "from sklearn.naive_bayes import MultinomialNB\n",
        "from sklearn.tree import DecisionTreeClassifier\n",
        "\n",
        "#dataset declaration\n",
        "\n",
        "diabetes_dataset=pd.read_csv('diabetes.csv')\n",
        "# print(diabetes_dataset.describe())\n",
        "# print(diabetes_dataset.shape)\n",
        "# print(diabetes_dataset.head())\n",
        "# print(diabetes_dataset['Outcome'].value_counts())\n",
        "\n",
        "# tarinting and testing\n",
        "X=diabetes_dataset.drop(columns='Outcome',axis=1)\n",
        "Y=diabetes_dataset['Outcome']\n",
        "X_train, X_test, Y_train, Y_test = train_test_split(X,Y, test_size = 0.2, stratify=Y, random_state=2)\n",
        "# print(X,Y,X_train,Y_train)\n",
        "\n",
        "#SVM prediction\n",
        "classifier = svm.SVC(kernel='linear')\n",
        "classifier.fit(X_train, Y_train)\n",
        "X_train_prediction = classifier.predict(X_train)\n",
        "training_data_accuracy = accuracy_score(X_train_prediction, Y_train)\n",
        "print('Accuracy score of the training data by Svm: ', training_data_accuracy)\n",
        "X_test_prediction = classifier.predict(X_test)\n",
        "test_data_accuracy = accuracy_score(X_test_prediction, Y_test)\n",
        "print('Accuracy score of the test data by svm: ', test_data_accuracy)\n",
        "\n",
        "#Naive bayes\n",
        "classifier = MultinomialNB()\n",
        "classifier.fit(X_train, Y_train)\n",
        "X_train_prediction = classifier.predict(X_train)\n",
        "training_data_accuracy = accuracy_score(X_train_prediction, Y_train)\n",
        "print('Accuracy score of the training data by SVM: ', training_data_accuracy)\n",
        "X_test_prediction = classifier.predict(X_test)\n",
        "test_data_accuracy = accuracy_score(X_test_prediction, Y_test)\n",
        "print('Accuracy score of the test data by SVM: ', test_data_accuracy)\n",
        "\n",
        "\n",
        "#KNN\n",
        "classifier = KNeighborsClassifier(n_neighbors=3)\n",
        "classifier.fit(X_train, Y_train)\n",
        "X_train_prediction = classifier.predict(X_train)\n",
        "training_data_accuracy = accuracy_score(X_train_prediction, Y_train)\n",
        "print('Accuracy score of the training data by KNN: ', training_data_accuracy)\n",
        "X_test_prediction = classifier.predict(X_test)\n",
        "test_data_accuracy = accuracy_score(X_test_prediction, Y_test)\n",
        "print('Accuracy score of the test data by KNN: ', test_data_accuracy)\n",
        "\n",
        "#decision tree\n",
        "classifier = DecisionTreeClassifier(random_state=42)\n",
        "classifier.fit(X_train, Y_train)\n",
        "X_train_prediction = classifier.predict(X_train)\n",
        "training_data_accuracy = accuracy_score(X_train_prediction, Y_train)\n",
        "print('Accuracy score of the training data by decision tree: ', training_data_accuracy)\n",
        "X_test_prediction = classifier.predict(X_test)\n",
        "test_data_accuracy = accuracy_score(X_test_prediction, Y_test)\n",
        "print('Accuracy score of the test data by decision tree: ', test_data_accuracy)\n",
        "\n",
        "#random Forest\n",
        "classifier = RandomForestClassifier(n_estimators=75, random_state=43)\n",
        "classifier.fit(X_train, Y_train)\n",
        "X_train_prediction = classifier.predict(X_train)\n",
        "training_data_accuracy = accuracy_score(X_train_prediction, Y_train)\n",
        "print('Accuracy score of the training data by RF: ', training_data_accuracy)\n",
        "X_test_prediction = classifier.predict(X_test)\n",
        "test_data_accuracy = accuracy_score(X_test_prediction, Y_test)\n",
        "print('Accuracy score of the test data by RF: ', test_data_accuracy)\n",
        "\n",
        "\n",
        "# input_data = (5,166,72,19,175,25.8,0.587,51)\n",
        "\n",
        "# input_data_as_numpy_array = np.asarray(input_data)\n",
        "# input_data_reshaped = input_data_as_numpy_array.reshape(1,-1)\n",
        "\n",
        "# prediction = classifier.predict(input_data_reshaped)\n",
        "# print(prediction)\n",
        "\n",
        "# if (prediction[0] == 0):\n",
        "#   print('The person is not diabetic')\n",
        "# else:\n",
        "#   print('The person is diabetic')\n",
        "\n",
        "\n",
        "  #svm,rf,knn,Naive bias,decision tree,"
      ]
    },
    {
      "cell_type": "markdown",
      "metadata": {
        "id": "mighaQP907TA"
      },
      "source": [
        "# dataset declaration"
      ]
    },
    {
      "cell_type": "code",
      "execution_count": 2,
      "metadata": {
        "id": "sUq9KBfr1Byc"
      },
      "outputs": [],
      "source": [
        "diabetes_dataset=pd.read_csv('diabetes.csv')\n",
        "# "
      ]
    },
    {
      "cell_type": "code",
      "execution_count": 3,
      "metadata": {
        "colab": {
          "base_uri": "https://localhost:8080/"
        },
        "id": "DWWfdtOB1EHo",
        "outputId": "4f37250a-a0a2-4c2c-d810-db0a36fe7a47"
      },
      "outputs": [
        {
          "name": "stdout",
          "output_type": "stream",
          "text": [
            "       Pregnancies     Glucose  BloodPressure  SkinThickness     Insulin  \\\n",
            "count   768.000000  768.000000     768.000000     768.000000  768.000000   \n",
            "mean      3.845052  120.894531      69.105469      20.536458   79.799479   \n",
            "std       3.369578   31.972618      19.355807      15.952218  115.244002   \n",
            "min       0.000000    0.000000       0.000000       0.000000    0.000000   \n",
            "25%       1.000000   99.000000      62.000000       0.000000    0.000000   \n",
            "50%       3.000000  117.000000      72.000000      23.000000   30.500000   \n",
            "75%       6.000000  140.250000      80.000000      32.000000  127.250000   \n",
            "max      17.000000  199.000000     122.000000      99.000000  846.000000   \n",
            "\n",
            "              BMI  DiabetesPedigreeFunction         Age     Outcome  \n",
            "count  768.000000                768.000000  768.000000  768.000000  \n",
            "mean    31.992578                  0.471876   33.240885    0.348958  \n",
            "std      7.884160                  0.331329   11.760232    0.476951  \n",
            "min      0.000000                  0.078000   21.000000    0.000000  \n",
            "25%     27.300000                  0.243750   24.000000    0.000000  \n",
            "50%     32.000000                  0.372500   29.000000    0.000000  \n",
            "75%     36.600000                  0.626250   41.000000    1.000000  \n",
            "max     67.100000                  2.420000   81.000000    1.000000  \n"
          ]
        }
      ],
      "source": [
        "print(diabetes_dataset.describe())\n"
      ]
    },
    {
      "cell_type": "code",
      "execution_count": 4,
      "metadata": {
        "colab": {
          "base_uri": "https://localhost:8080/"
        },
        "id": "s0PHNPj61Iw8",
        "outputId": "7c586b28-378f-4c30-beab-dbe67aeadefe"
      },
      "outputs": [
        {
          "name": "stdout",
          "output_type": "stream",
          "text": [
            "(768, 9)\n"
          ]
        }
      ],
      "source": [
        "print(diabetes_dataset.shape)\n"
      ]
    },
    {
      "cell_type": "code",
      "execution_count": 5,
      "metadata": {
        "colab": {
          "base_uri": "https://localhost:8080/"
        },
        "id": "PpTz_hGG1KZT",
        "outputId": "d25d8e5d-d567-42fb-8dd4-9fd796474853"
      },
      "outputs": [
        {
          "name": "stdout",
          "output_type": "stream",
          "text": [
            "   Pregnancies  Glucose  BloodPressure  SkinThickness  Insulin   BMI  \\\n",
            "0            6      148             72             35        0  33.6   \n",
            "1            1       85             66             29        0  26.6   \n",
            "2            8      183             64              0        0  23.3   \n",
            "3            1       89             66             23       94  28.1   \n",
            "4            0      137             40             35      168  43.1   \n",
            "\n",
            "   DiabetesPedigreeFunction  Age  Outcome  \n",
            "0                     0.627   50        1  \n",
            "1                     0.351   31        0  \n",
            "2                     0.672   32        1  \n",
            "3                     0.167   21        0  \n",
            "4                     2.288   33        1  \n"
          ]
        }
      ],
      "source": [
        "print(diabetes_dataset.head())\n"
      ]
    },
    {
      "cell_type": "code",
      "execution_count": 6,
      "metadata": {
        "colab": {
          "base_uri": "https://localhost:8080/"
        },
        "id": "k1uiTyvR1MBK",
        "outputId": "9096aa31-4e23-4b36-d698-b064e70a480b"
      },
      "outputs": [
        {
          "name": "stdout",
          "output_type": "stream",
          "text": [
            "Outcome\n",
            "0    500\n",
            "1    268\n",
            "Name: count, dtype: int64\n"
          ]
        }
      ],
      "source": [
        "print(diabetes_dataset['Outcome'].value_counts())"
      ]
    },
    {
      "cell_type": "markdown",
      "metadata": {
        "id": "7raUxTk91Uob"
      },
      "source": [
        "# tarinting and testing"
      ]
    },
    {
      "cell_type": "code",
      "execution_count": 7,
      "metadata": {
        "colab": {
          "base_uri": "https://localhost:8080/"
        },
        "id": "dGY-IF8v1P1c",
        "outputId": "e8fde99c-91ce-458e-c908-98d78d3442be"
      },
      "outputs": [
        {
          "name": "stdout",
          "output_type": "stream",
          "text": [
            "     Pregnancies  Glucose  BloodPressure  SkinThickness  Insulin   BMI  \\\n",
            "0              6      148             72             35        0  33.6   \n",
            "1              1       85             66             29        0  26.6   \n",
            "2              8      183             64              0        0  23.3   \n",
            "3              1       89             66             23       94  28.1   \n",
            "4              0      137             40             35      168  43.1   \n",
            "..           ...      ...            ...            ...      ...   ...   \n",
            "763           10      101             76             48      180  32.9   \n",
            "764            2      122             70             27        0  36.8   \n",
            "765            5      121             72             23      112  26.2   \n",
            "766            1      126             60              0        0  30.1   \n",
            "767            1       93             70             31        0  30.4   \n",
            "\n",
            "     DiabetesPedigreeFunction  Age  \n",
            "0                       0.627   50  \n",
            "1                       0.351   31  \n",
            "2                       0.672   32  \n",
            "3                       0.167   21  \n",
            "4                       2.288   33  \n",
            "..                        ...  ...  \n",
            "763                     0.171   63  \n",
            "764                     0.340   27  \n",
            "765                     0.245   30  \n",
            "766                     0.349   47  \n",
            "767                     0.315   23  \n",
            "\n",
            "[768 rows x 8 columns] 0      1\n",
            "1      0\n",
            "2      1\n",
            "3      0\n",
            "4      1\n",
            "      ..\n",
            "763    0\n",
            "764    0\n",
            "765    0\n",
            "766    1\n",
            "767    0\n",
            "Name: Outcome, Length: 768, dtype: int64      Pregnancies  Glucose  BloodPressure  SkinThickness  Insulin   BMI  \\\n",
            "619            0      119              0              0        0  32.4   \n",
            "329            6      105             70             32       68  30.8   \n",
            "13             1      189             60             23      846  30.1   \n",
            "476            2      105             80             45      191  33.7   \n",
            "45             0      180             66             39        0  42.0   \n",
            "..           ...      ...            ...            ...      ...   ...   \n",
            "303            5      115             98              0        0  52.9   \n",
            "592            3      132             80              0        0  34.4   \n",
            "559           11       85             74              0        0  30.1   \n",
            "725            4      112             78             40        0  39.4   \n",
            "253            0       86             68             32        0  35.8   \n",
            "\n",
            "     DiabetesPedigreeFunction  Age  \n",
            "619                     0.141   24  \n",
            "329                     0.122   37  \n",
            "13                      0.398   59  \n",
            "476                     0.711   29  \n",
            "45                      1.893   25  \n",
            "..                        ...  ...  \n",
            "303                     0.209   28  \n",
            "592                     0.402   44  \n",
            "559                     0.300   35  \n",
            "725                     0.236   38  \n",
            "253                     0.238   25  \n",
            "\n",
            "[614 rows x 8 columns] 619    1\n",
            "329    0\n",
            "13     1\n",
            "476    1\n",
            "45     1\n",
            "      ..\n",
            "303    1\n",
            "592    1\n",
            "559    0\n",
            "725    0\n",
            "253    0\n",
            "Name: Outcome, Length: 614, dtype: int64\n"
          ]
        }
      ],
      "source": [
        "# tarinting and testing\n",
        "X=diabetes_dataset.drop(columns='Outcome',axis=1)\n",
        "Y=diabetes_dataset['Outcome']\n",
        "X_train, X_test, Y_train, Y_test = train_test_split(X,Y, test_size = 0.2, stratify=Y, random_state=2)\n",
        "print(X,Y,X_train,Y_train)"
      ]
    },
    {
      "cell_type": "markdown",
      "metadata": {
        "id": "WUD8FjAG1kj-"
      },
      "source": [
        "# SVM prediction"
      ]
    },
    {
      "cell_type": "code",
      "execution_count": 8,
      "metadata": {
        "colab": {
          "base_uri": "https://localhost:8080/"
        },
        "id": "In6W3OaR1iX6",
        "outputId": "0fdb9d48-ab1f-41e6-cab6-1155d00ee615"
      },
      "outputs": [
        {
          "name": "stdout",
          "output_type": "stream",
          "text": [
            "Accuracy score of the training data by Svm:  0.7833876221498371\n",
            "Accuracy score of the test data by svm:  0.7727272727272727\n"
          ]
        }
      ],
      "source": [
        "#SVM prediction\n",
        "classifier = svm.SVC(kernel='linear')\n",
        "classifier.fit(X_train, Y_train)\n",
        "X_train_prediction = classifier.predict(X_train)\n",
        "training_data_accuracy = accuracy_score(X_train_prediction, Y_train)\n",
        "print('Accuracy score of the training data by Svm: ', training_data_accuracy)\n",
        "X_test_prediction = classifier.predict(X_test)\n",
        "test_data_accuracy = accuracy_score(X_test_prediction, Y_test)\n",
        "print('Accuracy score of the test data by svm: ', test_data_accuracy)"
      ]
    },
    {
      "cell_type": "markdown",
      "metadata": {
        "id": "UuSJjSY310Ra"
      },
      "source": [
        "# Naive bayes"
      ]
    },
    {
      "cell_type": "code",
      "execution_count": 9,
      "metadata": {
        "colab": {
          "base_uri": "https://localhost:8080/"
        },
        "id": "pOmAESCp1yTZ",
        "outputId": "93936a66-4c7a-4691-c650-f69d05d7f193"
      },
      "outputs": [
        {
          "name": "stdout",
          "output_type": "stream",
          "text": [
            "Accuracy score of the training data by SVM:  0.6026058631921825\n",
            "Accuracy score of the test data by SVM:  0.6558441558441559\n"
          ]
        }
      ],
      "source": [
        "#Naive bayes\n",
        "classifier = MultinomialNB()\n",
        "classifier.fit(X_train, Y_train)\n",
        "X_train_prediction = classifier.predict(X_train)\n",
        "training_data_accuracy = accuracy_score(X_train_prediction, Y_train)\n",
        "print('Accuracy score of the training data by SVM: ', training_data_accuracy)\n",
        "X_test_prediction = classifier.predict(X_test)\n",
        "test_data_accuracy = accuracy_score(X_test_prediction, Y_test)\n",
        "print('Accuracy score of the test data by SVM: ', test_data_accuracy)"
      ]
    },
    {
      "cell_type": "markdown",
      "metadata": {
        "id": "p0lC3yPY170G"
      },
      "source": [
        "# KNN"
      ]
    },
    {
      "cell_type": "code",
      "execution_count": 10,
      "metadata": {
        "colab": {
          "base_uri": "https://localhost:8080/"
        },
        "id": "Li3e9kIA16S9",
        "outputId": "6043e51e-9cfa-48e5-fff7-081ac0991391"
      },
      "outputs": [
        {
          "name": "stdout",
          "output_type": "stream",
          "text": [
            "Accuracy score of the training data by KNN:  0.8436482084690554\n",
            "Accuracy score of the test data by KNN:  0.6818181818181818\n"
          ]
        }
      ],
      "source": [
        "#KNN\n",
        "classifier = KNeighborsClassifier(n_neighbors=3)\n",
        "classifier.fit(X_train, Y_train)\n",
        "X_train_prediction = classifier.predict(X_train)\n",
        "training_data_accuracy = accuracy_score(X_train_prediction, Y_train)\n",
        "print('Accuracy score of the training data by KNN: ', training_data_accuracy)\n",
        "X_test_prediction = classifier.predict(X_test)\n",
        "test_data_accuracy = accuracy_score(X_test_prediction, Y_test)\n",
        "print('Accuracy score of the test data by KNN: ', test_data_accuracy)"
      ]
    },
    {
      "cell_type": "markdown",
      "metadata": {
        "id": "L0M2QjKO4-HK"
      },
      "source": [
        "# decision tree"
      ]
    },
    {
      "cell_type": "code",
      "execution_count": null,
      "metadata": {
        "colab": {
          "base_uri": "https://localhost:8080/"
        },
        "id": "LxqpcBNO2CQT",
        "outputId": "fa6c856c-97bb-43ef-d305-b8c29015f1a1"
      },
      "outputs": [],
      "source": [
        "#decision tree\n",
        "classifier = DecisionTreeClassifier(random_state=300)\n",
        "classifier.fit(X_train, Y_train)\n",
        "X_train_prediction = classifier.predict(X_train)\n",
        "training_data_accuracy = accuracy_score(X_train_prediction, Y_train)\n",
        "print('Accuracy score of the training data by decision tree: ', training_data_accuracy)\n",
        "X_test_prediction = classifier.predict(X_test)\n",
        "test_data_accuracy = accuracy_score(X_test_prediction, Y_test)\n",
        "print('Accuracy score of the test data by decision tree: ', test_data_accuracy)"
      ]
    },
    {
      "cell_type": "markdown",
      "metadata": {
        "id": "Nd4-1RSW5GTA"
      },
      "source": [
        "# random Forest"
      ]
    },
    {
      "cell_type": "code",
      "execution_count": 14,
      "metadata": {
        "colab": {
          "base_uri": "https://localhost:8080/"
        },
        "id": "j05138cT5EG5",
        "outputId": "81cc85c2-52c8-4387-8b0a-d99d3aee553b"
      },
      "outputs": [
        {
          "name": "stdout",
          "output_type": "stream",
          "text": [
            "Accuracy score of the training data by RF:  0.9853420195439739\n",
            "Accuracy score of the test data by RF:  0.7337662337662337\n"
          ]
        }
      ],
      "source": [
        "import pickle\n",
        "#random Forest\n",
        "classifier = RandomForestClassifier(n_estimators=7, random_state=43)\n",
        "classifier.fit(X_train, Y_train)\n",
        "X_train_prediction = classifier.predict(X_train)\n",
        "training_data_accuracy = accuracy_score(X_train_prediction, Y_train)\n",
        "print('Accuracy score of the training data by RF: ', training_data_accuracy)\n",
        "X_test_prediction = classifier.predict(X_test)\n",
        "test_data_accuracy = accuracy_score(X_test_prediction, Y_test)\n",
        "print('Accuracy score of the test data by RF: ', test_data_accuracy)\n",
        "\n",
        "with open('random_forest_model.pkl', 'wb') as file:\n",
        "    pickle.dump(classifier, file)"
      ]
    },
    {
      "cell_type": "code",
      "execution_count": 13,
      "metadata": {
        "colab": {
          "base_uri": "https://localhost:8080/"
        },
        "id": "0UNQEVxo9JLe",
        "outputId": "04cd32a0-671e-4986-e027-9d7e1e411a58"
      },
      "outputs": [
        {
          "name": "stdout",
          "output_type": "stream",
          "text": [
            "[1]\n",
            "The person is diabetic\n"
          ]
        },
        {
          "name": "stderr",
          "output_type": "stream",
          "text": [
            "d:\\Desktop\\b-tech-project\\btech-project-backend\\.venv\\Lib\\site-packages\\sklearn\\base.py:493: UserWarning: X does not have valid feature names, but RandomForestClassifier was fitted with feature names\n",
            "  warnings.warn(\n"
          ]
        }
      ],
      "source": [
        "# Load the RandomForestClassifier model from the file in your backend API\n",
        "import numpy as np\n",
        "with open('random_forest_model.pkl', 'rb') as file:\n",
        "    loaded_classifier = pickle.load(file)\n",
        "\n",
        "\n",
        "input_data = (5,166,72,19,175,25.8,0.587,51)\n",
        "\n",
        "input_data_as_numpy_array = np.asarray(input_data)\n",
        "input_data_reshaped = input_data_as_numpy_array.reshape(1,-1)\n",
        "\n",
        "prediction = loaded_classifier.predict(input_data_reshaped)\n",
        "print(prediction)\n",
        "\n",
        "if (prediction[0] == 0):\n",
        "  print('The person is not diabetic')\n",
        "else:\n",
        "  print('The person is diabetic')\n"
      ]
    }
  ],
  "metadata": {
    "colab": {
      "provenance": []
    },
    "kernelspec": {
      "display_name": "Python 3",
      "name": "python3"
    },
    "language_info": {
      "codemirror_mode": {
        "name": "ipython",
        "version": 3
      },
      "file_extension": ".py",
      "mimetype": "text/x-python",
      "name": "python",
      "nbconvert_exporter": "python",
      "pygments_lexer": "ipython3",
      "version": "3.12.2"
    }
  },
  "nbformat": 4,
  "nbformat_minor": 0
}
