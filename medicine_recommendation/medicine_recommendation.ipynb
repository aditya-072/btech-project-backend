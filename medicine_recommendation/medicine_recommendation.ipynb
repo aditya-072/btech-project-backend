{
 "cells": [
  {
   "cell_type": "markdown",
   "metadata": {},
   "source": [
    "## ucimlrepo"
   ]
  },
  {
   "cell_type": "code",
   "execution_count": null,
   "metadata": {},
   "outputs": [],
   "source": [
    "from ucimlrepo import fetch_ucirepo \n",
    "  \n",
    "# fetch dataset \n",
    "data = fetch_ucirepo(id=461) \n",
    "  \n",
    "# data (as pandas dataframes) \n",
    "data = data.data.features \n",
    "# y = data.data.targets \n",
    "  \n",
    "# metadata \n",
    "# print(data.metadata) \n",
    "  \n",
    "# variable information \n",
    "# print(data.variables) \n",
    "# print(y)"
   ]
  },
  {
   "cell_type": "markdown",
   "metadata": {},
   "source": [
    "## Data sets"
   ]
  },
  {
   "cell_type": "code",
   "execution_count": 5,
   "metadata": {
    "metadata": {}
   },
   "outputs": [
    {
     "name": "stdout",
     "output_type": "stream",
     "text": [
      "   Unnamed: 0       urlDrugName  rating         effectiveness  \\\n",
      "0        2202         enalapril       4      Highly Effective   \n",
      "1        3117  ortho-tri-cyclen       1      Highly Effective   \n",
      "2        1146           ponstel      10      Highly Effective   \n",
      "3        3947          prilosec       3  Marginally Effective   \n",
      "4        1951            lyrica       2  Marginally Effective   \n",
      "\n",
      "           sideEffects                               condition  \\\n",
      "0    Mild Side Effects  management of congestive heart failure   \n",
      "1  Severe Side Effects                        birth prevention   \n",
      "2      No Side Effects                        menstrual cramps   \n",
      "3    Mild Side Effects                             acid reflux   \n",
      "4  Severe Side Effects                            fibromyalgia   \n",
      "\n",
      "                                      benefitsReview  \\\n",
      "0  slowed the progression of left ventricular dys...   \n",
      "1  Although this type of birth control has more c...   \n",
      "2  I was used to having cramps so badly that they...   \n",
      "3  The acid reflux went away for a few months aft...   \n",
      "4  I think that the Lyrica was starting to help w...   \n",
      "\n",
      "                                   sideEffectsReview  \\\n",
      "0  cough, hypotension , proteinuria, impotence , ...   \n",
      "1  Heavy Cycle, Cramps, Hot Flashes, Fatigue, Lon...   \n",
      "2         Heavier bleeding and clotting than normal.   \n",
      "3  Constipation, dry mouth and some mild dizzines...   \n",
      "4  I felt extremely drugged and dopey.  Could not...   \n",
      "\n",
      "                                      commentsReview  \n",
      "0  monitor blood pressure , weight and asses for ...  \n",
      "1  I Hate This Birth Control, I Would Not Suggest...  \n",
      "2  I took 2 pills at the onset of my menstrual cr...  \n",
      "3  I was given Prilosec prescription at a dose of...  \n",
      "4                                          See above  \n"
     ]
    }
   ],
   "source": [
    "import pandas as pd\n",
    "\n",
    "data = pd.read_csv('datasets/drugLibTrain_raw.tsv', sep='\\t')\n",
    "\n",
    "print(data.head())"
   ]
  },
  {
   "cell_type": "markdown",
   "metadata": {},
   "source": [
    "## Dependencies"
   ]
  },
  {
   "cell_type": "code",
   "execution_count": null,
   "metadata": {},
   "outputs": [],
   "source": [
    "# !pip install ucimlrepo\n",
    "# !pip install joblib\n",
    "# !pip install pandas\n",
    "# !pip install nltk"
   ]
  },
  {
   "cell_type": "code",
   "execution_count": null,
   "metadata": {},
   "outputs": [],
   "source": [
    "import nltk\n",
    "# Download the VADER lexicon\n",
    "nltk.download('vader_lexicon')"
   ]
  },
  {
   "cell_type": "markdown",
   "metadata": {},
   "source": [
    "## Disease Prediction"
   ]
  },
  {
   "cell_type": "code",
   "execution_count": 10,
   "metadata": {
    "metadata": {}
   },
   "outputs": [
    {
     "name": "stdout",
     "output_type": "stream",
     "text": [
      "     urlDrugName  sentiment_score           effectiveness  \\\n",
      "1316    warfarin           0.9176  Considerably Effective   \n",
      "1771      nexium           0.8932  Considerably Effective   \n",
      "3022    atenolol           0.8126        Highly Effective   \n",
      "2125    prilosec           0.6901  Considerably Effective   \n",
      "3001    protonix           0.6126        Highly Effective   \n",
      "1847  metoprolol           0.5505        Highly Effective   \n",
      "1871       lasix           0.4939  Considerably Effective   \n",
      "2367    bystolic           0.4885        Highly Effective   \n",
      "2358     ecotrin           0.2500        Highly Effective   \n",
      "1770       coreg           0.1779  Considerably Effective   \n",
      "\n",
      "                sideEffects                                     benefitsReview  \n",
      "1316  Moderate Side Effects  Taking 3 mg of warfarin sufficiently thinned m...  \n",
      "1771        No Side Effects  Nexium  is very effective for me when I want t...  \n",
      "3022        No Side Effects  The benefits are amazing.  I felt dizzy and li...  \n",
      "2125        No Side Effects  My heart burn was relieved within forty eight ...  \n",
      "3001        No Side Effects  The heartburn was unrelenting and multiple ove...  \n",
      "1847        No Side Effects  never had a heart attack. helps wit chest pain...  \n",
      "1871    Severe Side Effects  When I was first on the 20 mg dosage, there wa...  \n",
      "2367      Mild Side Effects  I have had SVT's all my life.  It was only whe...  \n",
      "2358        No Side Effects  the patient felt good. he was relieved of his ...  \n",
      "1770  Moderate Side Effects  HEART WORKS BETTER -NO PVCS- less shortness of...  \n"
     ]
    },
    {
     "name": "stderr",
     "output_type": "stream",
     "text": [
      "C:\\Users\\aditya.suman\\AppData\\Local\\Temp\\ipykernel_35744\\3213311757.py:14: SettingWithCopyWarning: \n",
      "A value is trying to be set on a copy of a slice from a DataFrame.\n",
      "Try using .loc[row_indexer,col_indexer] = value instead\n",
      "\n",
      "See the caveats in the documentation: https://pandas.pydata.org/pandas-docs/stable/user_guide/indexing.html#returning-a-view-versus-a-copy\n",
      "  disease_data['sentiment_score'] = disease_data['benefitsReview'].apply(lambda x: sid.polarity_scores(x)['compound'])\n"
     ]
    }
   ],
   "source": [
    "import pandas as pd\n",
    "from nltk.sentiment.vader import SentimentIntensityAnalyzer\n",
    "# import joblib \n",
    "\n",
    "# Load dataset\n",
    "# data = pd.read_csv(\"drugLibTrain_raw.tsv\")\n",
    "\n",
    "# Filter dataset for a specific disease\n",
    "disease = \"heart\"\n",
    "disease_data = data[data['condition'].str.contains(disease, case=False, na=False)]\n",
    "\n",
    "# Perform sentiment analysis on reviews\n",
    "sid = SentimentIntensityAnalyzer()\n",
    "disease_data['sentiment_score'] = disease_data['benefitsReview'].apply(lambda x: sid.polarity_scores(x)['compound'])\n",
    "\n",
    "# Rank drugs based on sentiment score and other factors\n",
    "ranked_drugs = disease_data.sort_values(by=['sentiment_score', 'effectiveness', 'sideEffects'], ascending=[False, False, True])\n",
    "\n",
    "# Display top recommended drugs\n",
    "print(ranked_drugs[['urlDrugName', 'sentiment_score', 'effectiveness', 'sideEffects', 'benefitsReview']].head(10))\n",
    "\n",
    "# Save the model\n",
    "# joblib.dump(ranked_drugs, 'medicine_recommendation_model.pkl')\n"
   ]
  }
 ],
 "metadata": {
  "kernelspec": {
   "display_name": ".venv",
   "language": "python",
   "name": "python3"
  },
  "language_info": {
   "codemirror_mode": {
    "name": "ipython",
    "version": 3
   },
   "file_extension": ".py",
   "mimetype": "text/x-python",
   "name": "python",
   "nbconvert_exporter": "python",
   "pygments_lexer": "ipython3",
   "version": "3.12.2"
  }
 },
 "nbformat": 4,
 "nbformat_minor": 2
}
